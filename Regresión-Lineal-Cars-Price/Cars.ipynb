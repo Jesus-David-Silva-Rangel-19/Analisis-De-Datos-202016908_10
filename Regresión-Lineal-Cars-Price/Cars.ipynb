{
 "cells": [
  {
   "cell_type": "markdown",
   "id": "3f2896a2",
   "metadata": {},
   "source": [
    "<h1>Carga de Dataset<h1>"
   ]
  },
  {
   "cell_type": "code",
   "execution_count": 2,
   "id": "c93a46a8",
   "metadata": {},
   "outputs": [],
   "source": [
    "#Importe de librerias Para EDA\n",
    "import pandas as pd\n",
    "import numpy as np\n",
    "import matplotlib.pyplot as plt"
   ]
  },
  {
   "cell_type": "code",
   "execution_count": 5,
   "id": "a5260568",
   "metadata": {},
   "outputs": [
    {
     "name": "stderr",
     "output_type": "stream",
     "text": [
      "<>:2: SyntaxWarning: invalid escape sequence '\\c'\n",
      "<>:2: SyntaxWarning: invalid escape sequence '\\c'\n",
      "C:\\Users\\range\\AppData\\Local\\Temp\\ipykernel_11808\\3622268734.py:2: SyntaxWarning: invalid escape sequence '\\c'\n",
      "  df = pd.read_csv('../Regresión-Lineal-Cars-Price\\car data.csv')\n"
     ]
    },
    {
     "data": {
      "text/html": [
       "<div>\n",
       "<style scoped>\n",
       "    .dataframe tbody tr th:only-of-type {\n",
       "        vertical-align: middle;\n",
       "    }\n",
       "\n",
       "    .dataframe tbody tr th {\n",
       "        vertical-align: top;\n",
       "    }\n",
       "\n",
       "    .dataframe thead th {\n",
       "        text-align: right;\n",
       "    }\n",
       "</style>\n",
       "<table border=\"1\" class=\"dataframe\">\n",
       "  <thead>\n",
       "    <tr style=\"text-align: right;\">\n",
       "      <th></th>\n",
       "      <th>Car_Name</th>\n",
       "      <th>Year</th>\n",
       "      <th>Selling_Price</th>\n",
       "      <th>Present_Price</th>\n",
       "      <th>Kms_Driven</th>\n",
       "      <th>Fuel_Type</th>\n",
       "      <th>Seller_Type</th>\n",
       "      <th>Transmission</th>\n",
       "      <th>Owner</th>\n",
       "    </tr>\n",
       "  </thead>\n",
       "  <tbody>\n",
       "    <tr>\n",
       "      <th>0</th>\n",
       "      <td>ritz</td>\n",
       "      <td>2014</td>\n",
       "      <td>3.35</td>\n",
       "      <td>5.59</td>\n",
       "      <td>27000</td>\n",
       "      <td>Petrol</td>\n",
       "      <td>Dealer</td>\n",
       "      <td>Manual</td>\n",
       "      <td>0</td>\n",
       "    </tr>\n",
       "    <tr>\n",
       "      <th>1</th>\n",
       "      <td>sx4</td>\n",
       "      <td>2013</td>\n",
       "      <td>4.75</td>\n",
       "      <td>9.54</td>\n",
       "      <td>43000</td>\n",
       "      <td>Diesel</td>\n",
       "      <td>Dealer</td>\n",
       "      <td>Manual</td>\n",
       "      <td>0</td>\n",
       "    </tr>\n",
       "    <tr>\n",
       "      <th>2</th>\n",
       "      <td>ciaz</td>\n",
       "      <td>2017</td>\n",
       "      <td>7.25</td>\n",
       "      <td>9.85</td>\n",
       "      <td>6900</td>\n",
       "      <td>Petrol</td>\n",
       "      <td>Dealer</td>\n",
       "      <td>Manual</td>\n",
       "      <td>0</td>\n",
       "    </tr>\n",
       "    <tr>\n",
       "      <th>3</th>\n",
       "      <td>wagon r</td>\n",
       "      <td>2011</td>\n",
       "      <td>2.85</td>\n",
       "      <td>4.15</td>\n",
       "      <td>5200</td>\n",
       "      <td>Petrol</td>\n",
       "      <td>Dealer</td>\n",
       "      <td>Manual</td>\n",
       "      <td>0</td>\n",
       "    </tr>\n",
       "    <tr>\n",
       "      <th>4</th>\n",
       "      <td>swift</td>\n",
       "      <td>2014</td>\n",
       "      <td>4.60</td>\n",
       "      <td>6.87</td>\n",
       "      <td>42450</td>\n",
       "      <td>Diesel</td>\n",
       "      <td>Dealer</td>\n",
       "      <td>Manual</td>\n",
       "      <td>0</td>\n",
       "    </tr>\n",
       "  </tbody>\n",
       "</table>\n",
       "</div>"
      ],
      "text/plain": [
       "  Car_Name  Year  Selling_Price  Present_Price  Kms_Driven Fuel_Type  \\\n",
       "0     ritz  2014           3.35           5.59       27000    Petrol   \n",
       "1      sx4  2013           4.75           9.54       43000    Diesel   \n",
       "2     ciaz  2017           7.25           9.85        6900    Petrol   \n",
       "3  wagon r  2011           2.85           4.15        5200    Petrol   \n",
       "4    swift  2014           4.60           6.87       42450    Diesel   \n",
       "\n",
       "  Seller_Type Transmission  Owner  \n",
       "0      Dealer       Manual      0  \n",
       "1      Dealer       Manual      0  \n",
       "2      Dealer       Manual      0  \n",
       "3      Dealer       Manual      0  \n",
       "4      Dealer       Manual      0  "
      ]
     },
     "execution_count": 5,
     "metadata": {},
     "output_type": "execute_result"
    }
   ],
   "source": [
    "#Carga de DataSet\n",
    "df = pd.read_csv('../Regresión-Lineal-Cars-Price\\car data.csv')\n",
    "\n",
    "#Mirar las primeras Filas del DataSet\n",
    "df.head()"
   ]
  },
  {
   "cell_type": "markdown",
   "id": "5b41c0bc",
   "metadata": {},
   "source": [
    "<h3>Informacion General del Dataset<h3>"
   ]
  },
  {
   "cell_type": "code",
   "execution_count": 6,
   "id": "2e82a382",
   "metadata": {},
   "outputs": [
    {
     "name": "stdout",
     "output_type": "stream",
     "text": [
      "Numero de Filas y Columnas (301, 9)\n",
      "<class 'pandas.core.frame.DataFrame'>\n",
      "RangeIndex: 301 entries, 0 to 300\n",
      "Data columns (total 9 columns):\n",
      " #   Column         Non-Null Count  Dtype  \n",
      "---  ------         --------------  -----  \n",
      " 0   Car_Name       301 non-null    object \n",
      " 1   Year           301 non-null    int64  \n",
      " 2   Selling_Price  301 non-null    float64\n",
      " 3   Present_Price  301 non-null    float64\n",
      " 4   Kms_Driven     301 non-null    int64  \n",
      " 5   Fuel_Type      301 non-null    object \n",
      " 6   Seller_Type    301 non-null    object \n",
      " 7   Transmission   301 non-null    object \n",
      " 8   Owner          301 non-null    int64  \n",
      "dtypes: float64(2), int64(3), object(4)\n",
      "memory usage: 21.3+ KB\n",
      "None\n"
     ]
    }
   ],
   "source": [
    "\n",
    "#Informacion General del DataSet\n",
    "print(\"Numero de Filas y Columnas\",df.shape)\n",
    "\n",
    "#Informacion General de los datos\n",
    "print(df.info())\n"
   ]
  },
  {
   "cell_type": "markdown",
   "id": "363703c3",
   "metadata": {},
   "source": [
    "**Descripcion General de los Datos**\n",
    "\n",
    "Encontramos que el DataSet cuenta con alrededor de 2059 registros y 20 filas, ahora bien, encontramos que hay valores faltantes en algunas columnas por lo que debemos hacer imputacion de datos y buscaremos datos atipicos."
   ]
  },
  {
   "cell_type": "markdown",
   "id": "4202b3d1",
   "metadata": {},
   "source": [
    "<h3>Diccionario De Data<h3>"
   ]
  },
  {
   "cell_type": "code",
   "execution_count": 7,
   "id": "95b87b03",
   "metadata": {},
   "outputs": [],
   "source": [
    "data_descripcion = {\n",
    "    \"Make\": {\n",
    "        \"descripcion\": \"Marca del vehículo.\",\n",
    "        \"tipo_dato\": \"object (cadena de texto)\"\n",
    "    },\n",
    "    \"Model\": {\n",
    "        \"descripcion\": \"Modelo del vehículo.\",\n",
    "        \"tipo_dato\": \"object (cadena de texto)\"\n",
    "    },\n",
    "    \"Price\": {\n",
    "        \"descripcion\": \"Precio del vehículo en la moneda correspondiente.\",\n",
    "        \"tipo_dato\": \"int64 (entero)\"\n",
    "    },\n",
    "    \"Year\": {\n",
    "        \"descripcion\": \"Año de fabricación del vehículo.\",\n",
    "        \"tipo_dato\": \"int64 (entero)\"\n",
    "    },\n",
    "    \"Kilometer\": {\n",
    "        \"descripcion\": \"Kilometraje recorrido por el vehículo (en kilómetros).\",\n",
    "        \"tipo_dato\": \"int64 (entero)\"\n",
    "    },\n",
    "    \"Fuel Type\": {\n",
    "        \"descripcion\": \"Tipo de combustible utilizado por el vehículo (por ejemplo, gasolina, diésel).\",\n",
    "        \"tipo_dato\": \"object (cadena de texto)\"\n",
    "    },\n",
    "    \"Transmission\": {\n",
    "        \"descripcion\": \"Tipo de transmisión del vehículo (manual o automática).\",\n",
    "        \"tipo_dato\": \"object (cadena de texto)\"\n",
    "    },\n",
    "    \"Location\": {\n",
    "        \"descripcion\": \"Ubicación donde se vende el vehículo.\",\n",
    "        \"tipo_dato\": \"object (cadena de texto)\"\n",
    "    },\n",
    "    \"Color\": {\n",
    "        \"descripcion\": \"Color del vehículo.\",\n",
    "        \"tipo_dato\": \"object (cadena de texto)\"\n",
    "    },\n",
    "    \"Owner\": {\n",
    "        \"descripcion\": \"Número de dueños anteriores del vehículo.\",\n",
    "        \"tipo_dato\": \"object (cadena de texto)\"\n",
    "    },\n",
    "    \"Seller Type\": {\n",
    "        \"descripcion\": \"Tipo de vendedor (por ejemplo, concesionario, individuo).\",\n",
    "        \"tipo_dato\": \"object (cadena de texto)\"\n",
    "    },\n",
    "    \"Engine\": {\n",
    "        \"descripcion\": \"Capacidad del motor del vehículo (generalmente en centímetros cúbicos, cc).\",\n",
    "        \"tipo_dato\": \"object (cadena de texto), algunos valores faltantes\"\n",
    "    },\n",
    "    \"Max Power\": {\n",
    "        \"descripcion\": \"Potencia máxima generada por el motor del vehículo (en caballos de fuerza o kilovatios).\",\n",
    "        \"tipo_dato\": \"object (cadena de texto), algunos valores faltantes\"\n",
    "    },\n",
    "    \"Max Torque\": {\n",
    "        \"descripcion\": \"Torque del vehículo, que indica la fuerza que el motor puede generar.\",\n",
    "        \"tipo_dato\": \"object (cadena de texto), algunos valores faltantes\"\n",
    "    },\n",
    "    \"Drivetrain\": {\n",
    "        \"descripcion\": \"Tipo de transmisión del vehículo (tracción delantera, trasera o total).\",\n",
    "        \"tipo_dato\": \"object (cadena de texto), algunos valores faltantes\"\n",
    "    },\n",
    "    \"Length\": {\n",
    "        \"descripcion\": \"Longitud del vehículo (en milímetros o centímetros).\",\n",
    "        \"tipo_dato\": \"float64 (número decimal), algunos valores faltantes\"\n",
    "    },\n",
    "    \"Width\": {\n",
    "        \"descripcion\": \"Ancho del vehículo (en milímetros o centímetros).\",\n",
    "        \"tipo_dato\": \"float64 (número decimal), algunos valores faltantes\"\n",
    "    },\n",
    "    \"Height\": {\n",
    "        \"descripcion\": \"Altura del vehículo (en milímetros o centímetros).\",\n",
    "        \"tipo_dato\": \"float64 (número decimal), algunos valores faltantes\"\n",
    "    },\n",
    "    \"Seating Capacity\": {\n",
    "        \"descripcion\": \"Número de asientos en el vehículo.\",\n",
    "        \"tipo_dato\": \"float64 (número decimal), algunos valores faltantes\"\n",
    "    },\n",
    "    \"Fuel Tank Capacity\": {\n",
    "        \"descripcion\": \"Capacidad del tanque de combustible del vehículo (en litros).\",\n",
    "        \"tipo_dato\": \"float64 (número decimal), algunos valores faltantes\"\n",
    "    }\n",
    "}\n"
   ]
  },
  {
   "cell_type": "code",
   "execution_count": 8,
   "id": "2c4e5c5c",
   "metadata": {},
   "outputs": [
    {
     "data": {
      "text/html": [
       "<div>\n",
       "<style scoped>\n",
       "    .dataframe tbody tr th:only-of-type {\n",
       "        vertical-align: middle;\n",
       "    }\n",
       "\n",
       "    .dataframe tbody tr th {\n",
       "        vertical-align: top;\n",
       "    }\n",
       "\n",
       "    .dataframe thead th {\n",
       "        text-align: right;\n",
       "    }\n",
       "</style>\n",
       "<table border=\"1\" class=\"dataframe\">\n",
       "  <thead>\n",
       "    <tr style=\"text-align: right;\">\n",
       "      <th></th>\n",
       "      <th>Year</th>\n",
       "      <th>Selling_Price</th>\n",
       "      <th>Present_Price</th>\n",
       "      <th>Kms_Driven</th>\n",
       "      <th>Owner</th>\n",
       "    </tr>\n",
       "  </thead>\n",
       "  <tbody>\n",
       "    <tr>\n",
       "      <th>count</th>\n",
       "      <td>301.000000</td>\n",
       "      <td>301.000000</td>\n",
       "      <td>301.000000</td>\n",
       "      <td>301.000000</td>\n",
       "      <td>301.000000</td>\n",
       "    </tr>\n",
       "    <tr>\n",
       "      <th>mean</th>\n",
       "      <td>2013.627907</td>\n",
       "      <td>4.661296</td>\n",
       "      <td>7.628472</td>\n",
       "      <td>36947.205980</td>\n",
       "      <td>0.043189</td>\n",
       "    </tr>\n",
       "    <tr>\n",
       "      <th>std</th>\n",
       "      <td>2.891554</td>\n",
       "      <td>5.082812</td>\n",
       "      <td>8.644115</td>\n",
       "      <td>38886.883882</td>\n",
       "      <td>0.247915</td>\n",
       "    </tr>\n",
       "    <tr>\n",
       "      <th>min</th>\n",
       "      <td>2003.000000</td>\n",
       "      <td>0.100000</td>\n",
       "      <td>0.320000</td>\n",
       "      <td>500.000000</td>\n",
       "      <td>0.000000</td>\n",
       "    </tr>\n",
       "    <tr>\n",
       "      <th>25%</th>\n",
       "      <td>2012.000000</td>\n",
       "      <td>0.900000</td>\n",
       "      <td>1.200000</td>\n",
       "      <td>15000.000000</td>\n",
       "      <td>0.000000</td>\n",
       "    </tr>\n",
       "    <tr>\n",
       "      <th>50%</th>\n",
       "      <td>2014.000000</td>\n",
       "      <td>3.600000</td>\n",
       "      <td>6.400000</td>\n",
       "      <td>32000.000000</td>\n",
       "      <td>0.000000</td>\n",
       "    </tr>\n",
       "    <tr>\n",
       "      <th>75%</th>\n",
       "      <td>2016.000000</td>\n",
       "      <td>6.000000</td>\n",
       "      <td>9.900000</td>\n",
       "      <td>48767.000000</td>\n",
       "      <td>0.000000</td>\n",
       "    </tr>\n",
       "    <tr>\n",
       "      <th>max</th>\n",
       "      <td>2018.000000</td>\n",
       "      <td>35.000000</td>\n",
       "      <td>92.600000</td>\n",
       "      <td>500000.000000</td>\n",
       "      <td>3.000000</td>\n",
       "    </tr>\n",
       "  </tbody>\n",
       "</table>\n",
       "</div>"
      ],
      "text/plain": [
       "              Year  Selling_Price  Present_Price     Kms_Driven       Owner\n",
       "count   301.000000     301.000000     301.000000     301.000000  301.000000\n",
       "mean   2013.627907       4.661296       7.628472   36947.205980    0.043189\n",
       "std       2.891554       5.082812       8.644115   38886.883882    0.247915\n",
       "min    2003.000000       0.100000       0.320000     500.000000    0.000000\n",
       "25%    2012.000000       0.900000       1.200000   15000.000000    0.000000\n",
       "50%    2014.000000       3.600000       6.400000   32000.000000    0.000000\n",
       "75%    2016.000000       6.000000       9.900000   48767.000000    0.000000\n",
       "max    2018.000000      35.000000      92.600000  500000.000000    3.000000"
      ]
     },
     "execution_count": 8,
     "metadata": {},
     "output_type": "execute_result"
    }
   ],
   "source": [
    "#Estadisticas Descriptivas\n",
    "df.describe()\n"
   ]
  },
  {
   "cell_type": "markdown",
   "id": "2640561a",
   "metadata": {},
   "source": [
    "<h3>Mediana<h3>"
   ]
  },
  {
   "cell_type": "code",
   "execution_count": 9,
   "id": "9a5fc9ba",
   "metadata": {},
   "outputs": [
    {
     "name": "stdout",
     "output_type": "stream",
     "text": [
      "Year              2014.0\n",
      "Selling_Price        3.6\n",
      "Present_Price        6.4\n",
      "Kms_Driven       32000.0\n",
      "Owner                0.0\n",
      "dtype: float64\n"
     ]
    }
   ],
   "source": [
    "# Seleccionar solo las columnas numéricas\n",
    "median_values = df.select_dtypes(include=['number']).median()\n",
    "\n",
    "# Mostrar la mediana\n",
    "print(median_values)"
   ]
  },
  {
   "cell_type": "code",
   "execution_count": 11,
   "id": "d88c6704",
   "metadata": {},
   "outputs": [
    {
     "name": "stdout",
     "output_type": "stream",
     "text": [
      "Car_Name         0\n",
      "Year             0\n",
      "Selling_Price    0\n",
      "Present_Price    0\n",
      "Kms_Driven       0\n",
      "Fuel_Type        0\n",
      "Seller_Type      0\n",
      "Transmission     0\n",
      "Owner            0\n",
      "dtype: int64\n"
     ]
    }
   ],
   "source": [
    "#verificar Valores Nulos\n",
    "print(df.isnull().sum())"
   ]
  },
  {
   "cell_type": "markdown",
   "id": "2e73bc7a",
   "metadata": {},
   "source": [
    "**Imputacion de Valores Faltantes**"
   ]
  }
 ],
 "metadata": {
  "kernelspec": {
   "display_name": "base",
   "language": "python",
   "name": "python3"
  },
  "language_info": {
   "codemirror_mode": {
    "name": "ipython",
    "version": 3
   },
   "file_extension": ".py",
   "mimetype": "text/x-python",
   "name": "python",
   "nbconvert_exporter": "python",
   "pygments_lexer": "ipython3",
   "version": "3.12.3"
  },
  "vscode": {
   "interpreter": {
    "hash": "6034a9e124f3c20e2367bd866986b1fdd15cd81747522b9f323492d284f05081"
   }
  }
 },
 "nbformat": 4,
 "nbformat_minor": 5
}
